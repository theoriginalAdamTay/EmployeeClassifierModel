{
 "cells": [
  {
   "cell_type": "markdown",
   "id": "97302869",
   "metadata": {},
   "source": [
    "<h1>Employee Classifier Model</h1>"
   ]
  },
  {
   "cell_type": "markdown",
   "id": "a08ac404",
   "metadata": {},
   "source": [
    "<p>Import OpenML to obtain the dataset in addition to the requisite numpy and pandas libraries:</p>"
   ]
  },
  {
   "cell_type": "code",
   "execution_count": 1,
   "id": "b00fc454",
   "metadata": {},
   "outputs": [],
   "source": [
    "import openml\n",
    "import numpy as np\n",
    "import pandas as pd"
   ]
  },
  {
   "cell_type": "markdown",
   "id": "80ddb2b3",
   "metadata": {},
   "source": [
    "<p>Import the necessary modules to carry out binary classification with 10 fold cross validation using an SVM and Pipeline:</p>"
   ]
  },
  {
   "cell_type": "code",
   "execution_count": 2,
   "id": "7731d9aa",
   "metadata": {},
   "outputs": [],
   "source": [
    "from sklearn.model_selection import cross_val_score, KFold\n",
    "from sklearn.svm import SVC\n",
    "from sklearn.preprocessing import StandardScaler\n",
    "from sklearn.pipeline import Pipeline\n",
    "from sklearn.datasets import make_classification"
   ]
  },
  {
   "cell_type": "markdown",
   "id": "07d19315",
   "metadata": {},
   "source": [
    "<p>Get the dataset from OpenML by ID and retrieve features and target:</p>"
   ]
  },
  {
   "cell_type": "code",
   "execution_count": 3,
   "id": "1b790116",
   "metadata": {},
   "outputs": [],
   "source": [
    "dataset = openml.datasets.get_dataset(4135)\n",
    "X, y, _, _ = dataset.get_data(target = dataset.default_target_attribute)"
   ]
  },
  {
   "cell_type": "markdown",
   "id": "c799e509",
   "metadata": {},
   "source": [
    "<p>A Pipeline is used to apply preprocessing using a StandardScaler and support vector machine with linear kernel:</p>"
   ]
  },
  {
   "cell_type": "code",
   "execution_count": 4,
   "id": "dd9a7df5",
   "metadata": {},
   "outputs": [],
   "source": [
    "pipeline = Pipeline([\n",
    "    ('scaler', StandardScaler()),\n",
    "    ('svm', SVC(kernel = 'linear'))\n",
    "])"
   ]
  },
  {
   "cell_type": "markdown",
   "id": "3675d4e0",
   "metadata": {},
   "source": [
    "<p>10 fold cross validation is then carried out with shuffling enabled and random state 42:</p>"
   ]
  },
  {
   "cell_type": "code",
   "execution_count": 5,
   "id": "2bc46e77",
   "metadata": {},
   "outputs": [],
   "source": [
    "kf = KFold(n_splits = 10, shuffle = True, random_state = 42)"
   ]
  },
  {
   "cell_type": "markdown",
   "id": "554bde54",
   "metadata": {},
   "source": [
    "<p>Get the cross validation scores using the pipeline, features, target and crossvalidation values, and score based on accuracy:</p>"
   ]
  },
  {
   "cell_type": "code",
   "execution_count": 6,
   "id": "f6856b35",
   "metadata": {},
   "outputs": [],
   "source": [
    "cv_scores = cross_val_score(pipeline, X, y, cv = kf, scoring = 'accuracy')"
   ]
  },
  {
   "cell_type": "markdown",
   "id": "ad50e5d9",
   "metadata": {},
   "source": [
    "<p>Output the accuracy per fold, mean accuracy and standard deviation:</p>"
   ]
  },
  {
   "cell_type": "code",
   "execution_count": 7,
   "id": "b8c6a8a3",
   "metadata": {
    "scrolled": true
   },
   "outputs": [
    {
     "name": "stdout",
     "output_type": "stream",
     "text": [
      "Accuracy per fold: [0.94354593 0.94385108 0.94263045 0.94110467 0.94842844 0.93774794\n",
      " 0.93713763 0.93744278 0.94415624 0.94505495]\n"
     ]
    }
   ],
   "source": [
    "print(f\"Accuracy per fold: {cv_scores}\")"
   ]
  },
  {
   "cell_type": "code",
   "execution_count": 8,
   "id": "92e1043a",
   "metadata": {},
   "outputs": [
    {
     "name": "stdout",
     "output_type": "stream",
     "text": [
      "Mean accuracy: 0.9421\n"
     ]
    }
   ],
   "source": [
    "print(f\"Mean accuracy: {cv_scores.mean():.4f}\")"
   ]
  },
  {
   "cell_type": "code",
   "execution_count": 9,
   "id": "846881c4",
   "metadata": {},
   "outputs": [
    {
     "name": "stdout",
     "output_type": "stream",
     "text": [
      "Standard deviation: 0.0035\n"
     ]
    }
   ],
   "source": [
    "print(f\"Standard deviation: {cv_scores.std():.4f}\")"
   ]
  }
 ],
 "metadata": {
  "kernelspec": {
   "display_name": "Python 3 (ipykernel)",
   "language": "python",
   "name": "python3"
  },
  "language_info": {
   "codemirror_mode": {
    "name": "ipython",
    "version": 3
   },
   "file_extension": ".py",
   "mimetype": "text/x-python",
   "name": "python",
   "nbconvert_exporter": "python",
   "pygments_lexer": "ipython3",
   "version": "3.9.7"
  }
 },
 "nbformat": 4,
 "nbformat_minor": 5
}
